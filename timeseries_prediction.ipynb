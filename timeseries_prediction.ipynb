{
 "cells": [
  {
   "cell_type": "code",
   "execution_count": 3,
   "metadata": {},
   "outputs": [],
   "source": [
    "#Importing the Libraries\n",
    "import pandas as pd\n",
    "import numpy as np\n",
    "import matplotlib.pyplot as plt\n",
    "from sklearn.preprocessing import MinMaxScaler\n",
    "import tensorflow as tf\n",
    "from sklearn.model_selection import TimeSeriesSplit\n",
    "from sklearn.metrics import mean_squared_error, r2_score\n",
    "import matplotlib.dates as mandates\n",
    "from sklearn.preprocessing import MinMaxScaler\n",
    "from sklearn import linear_model"
   ]
  },
  {
   "cell_type": "code",
   "execution_count": 4,
   "metadata": {},
   "outputs": [],
   "source": [
    "df_pr = pd.read_csv('OPENAIERC-USD.csv', na_values=['null'], index_col='Date', parse_dates=True, infer_datetime_format=True)"
   ]
  },
  {
   "cell_type": "markdown",
   "metadata": {},
   "source": [
    "### Selecting Features and Target Variables"
   ]
  },
  {
   "cell_type": "code",
   "execution_count": 5,
   "metadata": {},
   "outputs": [],
   "source": [
    "#Set Target Variable\n",
    "output_var = pd.DataFrame(df_pr['Adj Close'])\n",
    "#Selecting the Features\n",
    "features = ['Open', 'High', 'Low', 'Volume']"
   ]
  },
  {
   "cell_type": "markdown",
   "metadata": {},
   "source": [
    "### Applying MinMax Scaler to scale the data for training"
   ]
  },
  {
   "cell_type": "code",
   "execution_count": 6,
   "metadata": {},
   "outputs": [
    {
     "data": {
      "text/html": [
       "<div>\n",
       "<style scoped>\n",
       "    .dataframe tbody tr th:only-of-type {\n",
       "        vertical-align: middle;\n",
       "    }\n",
       "\n",
       "    .dataframe tbody tr th {\n",
       "        vertical-align: top;\n",
       "    }\n",
       "\n",
       "    .dataframe thead th {\n",
       "        text-align: right;\n",
       "    }\n",
       "</style>\n",
       "<table border=\"1\" class=\"dataframe\">\n",
       "  <thead>\n",
       "    <tr style=\"text-align: right;\">\n",
       "      <th></th>\n",
       "      <th>Open</th>\n",
       "      <th>High</th>\n",
       "      <th>Low</th>\n",
       "      <th>Volume</th>\n",
       "    </tr>\n",
       "    <tr>\n",
       "      <th>Date</th>\n",
       "      <th></th>\n",
       "      <th></th>\n",
       "      <th></th>\n",
       "      <th></th>\n",
       "    </tr>\n",
       "  </thead>\n",
       "  <tbody>\n",
       "    <tr>\n",
       "      <th>2022-12-07</th>\n",
       "      <td>0.054993</td>\n",
       "      <td>0.017562</td>\n",
       "      <td>0.281868</td>\n",
       "      <td>0.027154</td>\n",
       "    </tr>\n",
       "    <tr>\n",
       "      <th>2022-12-08</th>\n",
       "      <td>0.117105</td>\n",
       "      <td>0.210946</td>\n",
       "      <td>0.506276</td>\n",
       "      <td>0.523185</td>\n",
       "    </tr>\n",
       "    <tr>\n",
       "      <th>2022-12-09</th>\n",
       "      <td>0.169218</td>\n",
       "      <td>0.156699</td>\n",
       "      <td>0.926643</td>\n",
       "      <td>0.199689</td>\n",
       "    </tr>\n",
       "    <tr>\n",
       "      <th>2022-12-10</th>\n",
       "      <td>1.000000</td>\n",
       "      <td>1.000000</td>\n",
       "      <td>0.701242</td>\n",
       "      <td>1.000000</td>\n",
       "    </tr>\n",
       "    <tr>\n",
       "      <th>2022-12-11</th>\n",
       "      <td>0.228029</td>\n",
       "      <td>0.439380</td>\n",
       "      <td>0.541149</td>\n",
       "      <td>0.354564</td>\n",
       "    </tr>\n",
       "  </tbody>\n",
       "</table>\n",
       "</div>"
      ],
      "text/plain": [
       "                Open      High       Low    Volume\n",
       "Date                                              \n",
       "2022-12-07  0.054993  0.017562  0.281868  0.027154\n",
       "2022-12-08  0.117105  0.210946  0.506276  0.523185\n",
       "2022-12-09  0.169218  0.156699  0.926643  0.199689\n",
       "2022-12-10  1.000000  1.000000  0.701242  1.000000\n",
       "2022-12-11  0.228029  0.439380  0.541149  0.354564"
      ]
     },
     "execution_count": 6,
     "metadata": {},
     "output_type": "execute_result"
    }
   ],
   "source": [
    "scaler = MinMaxScaler()\n",
    "feature_transform = scaler.fit_transform(df_pr[features])\n",
    "feature_transform= pd.DataFrame(columns=features, data=feature_transform, index=df_pr.index)\n",
    "feature_transform.head()"
   ]
  },
  {
   "cell_type": "markdown",
   "metadata": {},
   "source": [
    "#### Time Series Split:\n",
    "To accomplish this, we will employ the TimeSeriesSplit class from the sci-kit-learn library. We will configure the number of splits to be 10, indicating that 10% of the data will serve as the test set, while the remaining 90% will train the LSTM model. The advantage of employing this Time Series split lies in its examination of data samples at regular time intervals."
   ]
  },
  {
   "cell_type": "code",
   "execution_count": 7,
   "metadata": {},
   "outputs": [],
   "source": [
    "timesplit= TimeSeriesSplit(n_splits=10)  #10% data for testing and 90% for training\n",
    "for train_index, test_index in timesplit.split(feature_transform):\n",
    "        X_train, X_test = feature_transform[:len(train_index)], feature_transform[len(train_index): (len(train_index)+len(test_index))]\n",
    "        y_train, y_test = output_var[:len(train_index)].values.ravel(), output_var[len(train_index): (len(train_index)+len(test_index))].values.ravel()"
   ]
  },
  {
   "cell_type": "code",
   "execution_count": 8,
   "metadata": {},
   "outputs": [],
   "source": [
    "trainX =np.array(X_train)\n",
    "testX =np.array(X_test)\n",
    "X_train = trainX.reshape(X_train.shape[0], 1, X_train.shape[1])\n",
    "X_test = testX.reshape(X_test.shape[0], 1, X_test.shape[1])"
   ]
  },
  {
   "cell_type": "markdown",
   "metadata": {},
   "source": [
    "#### Building the model\n",
    "Model Architecture: A Sequential Keras model with one LSTM layer. The LSTM layer has 32 units and is followed by one Dense Layer of one neuron."
   ]
  },
  {
   "cell_type": "code",
   "execution_count": 9,
   "metadata": {},
   "outputs": [
    {
     "name": "stdout",
     "output_type": "stream",
     "text": [
      "WARNING:tensorflow:Layer lstm will not use cuDNN kernels since it doesn't meet the criteria. It will use a generic GPU kernel as fallback when running on GPU.\n"
     ]
    }
   ],
   "source": [
    "lstm = tf.keras.Sequential()\n",
    "lstm.add(tf.keras.layers.LSTM(32, input_shape=(1, trainX.shape[1]), activation='relu', return_sequences=False))\n",
    "lstm.add(tf.keras.layers.Dense(1))\n",
    "lstm.compile(loss='mean_squared_error', optimizer='adam')"
   ]
  },
  {
   "cell_type": "markdown",
   "metadata": {},
   "source": [
    "### Training the LSTM model"
   ]
  },
  {
   "cell_type": "code",
   "execution_count": 10,
   "metadata": {},
   "outputs": [
    {
     "name": "stdout",
     "output_type": "stream",
     "text": [
      "Epoch 1/100\n",
      "35/35 [==============================] - 10s 35ms/step - loss: 6.9424e-04\n",
      "Epoch 2/100\n",
      "35/35 [==============================] - 1s 23ms/step - loss: 2.9942e-04: 0s - loss: 3.3072e\n",
      "Epoch 3/100\n",
      "35/35 [==============================] - 1s 22ms/step - loss: 2.6444e-04\n",
      "Epoch 4/100\n",
      "35/35 [==============================] - 1s 25ms/step - loss: 2.2145e-04\n",
      "Epoch 5/100\n",
      "35/35 [==============================] - 1s 21ms/step - loss: 1.9415e-04\n",
      "Epoch 6/100\n",
      "35/35 [==============================] - 1s 20ms/step - loss: 1.6958e-04\n",
      "Epoch 7/100\n",
      "35/35 [==============================] - 1s 21ms/step - loss: 1.5126e-04: 0s - loss: 1.6094e-\n",
      "Epoch 8/100\n",
      "35/35 [==============================] - 1s 25ms/step - loss: 1.3376e-04\n",
      "Epoch 9/100\n",
      "35/35 [==============================] - 1s 25ms/step - loss: 1.2126e-04\n",
      "Epoch 10/100\n",
      "35/35 [==============================] - 1s 21ms/step - loss: 1.1128e-04\n",
      "Epoch 11/100\n",
      "35/35 [==============================] - 1s 27ms/step - loss: 1.0445e-04\n",
      "Epoch 12/100\n",
      "35/35 [==============================] - 1s 21ms/step - loss: 9.9259e-05\n",
      "Epoch 13/100\n",
      "35/35 [==============================] - 1s 17ms/step - loss: 9.5577e-05\n",
      "Epoch 14/100\n",
      "35/35 [==============================] - 1s 21ms/step - loss: 9.2869e-05\n",
      "Epoch 15/100\n",
      "35/35 [==============================] - 1s 24ms/step - loss: 9.0684e-05\n",
      "Epoch 16/100\n",
      "35/35 [==============================] - 1s 17ms/step - loss: 8.8785e-05\n",
      "Epoch 17/100\n",
      "35/35 [==============================] - 1s 18ms/step - loss: 8.7389e-05\n",
      "Epoch 18/100\n",
      "35/35 [==============================] - 1s 16ms/step - loss: 8.5599e-05\n",
      "Epoch 19/100\n",
      "35/35 [==============================] - 1s 15ms/step - loss: 8.4096e-05\n",
      "Epoch 20/100\n",
      "35/35 [==============================] - 0s 14ms/step - loss: 8.2616e-05\n",
      "Epoch 21/100\n",
      "35/35 [==============================] - 0s 13ms/step - loss: 8.1117e-05\n",
      "Epoch 22/100\n",
      "35/35 [==============================] - 1s 18ms/step - loss: 7.9524e-05: 0s - loss: 9.0385e-\n",
      "Epoch 23/100\n",
      "35/35 [==============================] - 1s 19ms/step - loss: 7.8287e-05\n",
      "Epoch 24/100\n",
      "35/35 [==============================] - 0s 13ms/step - loss: 7.6877e-05\n",
      "Epoch 25/100\n",
      "35/35 [==============================] - 1s 26ms/step - loss: 7.5844e-05: 0s - loss: 9.9\n",
      "Epoch 26/100\n",
      "35/35 [==============================] - 1s 19ms/step - loss: 7.4563e-05\n",
      "Epoch 27/100\n",
      "35/35 [==============================] - 1s 15ms/step - loss: 7.3840e-05\n",
      "Epoch 28/100\n",
      "35/35 [==============================] - 1s 18ms/step - loss: 7.2198e-05\n",
      "Epoch 29/100\n",
      "35/35 [==============================] - 1s 18ms/step - loss: 7.1884e-05\n",
      "Epoch 30/100\n",
      "35/35 [==============================] - 1s 17ms/step - loss: 7.1091e-05\n",
      "Epoch 31/100\n",
      "35/35 [==============================] - 1s 17ms/step - loss: 7.2289e-05\n",
      "Epoch 32/100\n",
      "35/35 [==============================] - 1s 25ms/step - loss: 7.0579e-05: 0s - loss: 1\n",
      "Epoch 33/100\n",
      "35/35 [==============================] - 1s 17ms/step - loss: 7.6045e-05\n",
      "Epoch 34/100\n",
      "35/35 [==============================] - 1s 14ms/step - loss: 7.4509e-05\n",
      "Epoch 35/100\n",
      "35/35 [==============================] - 0s 13ms/step - loss: 7.6534e-05\n",
      "Epoch 36/100\n",
      "35/35 [==============================] - 0s 13ms/step - loss: 7.0774e-05\n",
      "Epoch 37/100\n",
      "35/35 [==============================] - 0s 12ms/step - loss: 7.0310e-05\n",
      "Epoch 38/100\n",
      "35/35 [==============================] - 1s 15ms/step - loss: 6.6701e-05\n",
      "Epoch 39/100\n",
      "35/35 [==============================] - 1s 14ms/step - loss: 6.7456e-05\n",
      "Epoch 40/100\n",
      "35/35 [==============================] - 1s 17ms/step - loss: 6.5490e-05\n",
      "Epoch 41/100\n",
      "35/35 [==============================] - 1s 17ms/step - loss: 6.5626e-05\n",
      "Epoch 42/100\n",
      "35/35 [==============================] - 0s 13ms/step - loss: 6.3191e-05\n",
      "Epoch 43/100\n",
      "35/35 [==============================] - 0s 13ms/step - loss: 6.3956e-05\n",
      "Epoch 44/100\n",
      "35/35 [==============================] - 0s 13ms/step - loss: 6.2876e-05\n",
      "Epoch 45/100\n",
      "35/35 [==============================] - 0s 14ms/step - loss: 6.5272e-05\n",
      "Epoch 46/100\n",
      "35/35 [==============================] - 0s 14ms/step - loss: 6.4357e-05\n",
      "Epoch 47/100\n",
      "35/35 [==============================] - 0s 11ms/step - loss: 6.7691e-05\n",
      "Epoch 48/100\n",
      "35/35 [==============================] - 1s 18ms/step - loss: 6.4133e-05\n",
      "Epoch 49/100\n",
      "35/35 [==============================] - 1s 16ms/step - loss: 6.7631e-05\n",
      "Epoch 50/100\n",
      "35/35 [==============================] - 1s 16ms/step - loss: 6.4697e-05\n",
      "Epoch 51/100\n",
      "35/35 [==============================] - 0s 13ms/step - loss: 6.5324e-05\n",
      "Epoch 52/100\n",
      "35/35 [==============================] - 1s 15ms/step - loss: 6.1306e-05\n",
      "Epoch 53/100\n",
      "35/35 [==============================] - 1s 17ms/step - loss: 6.2673e-05: 0s - loss: 1.017\n",
      "Epoch 54/100\n",
      "35/35 [==============================] - 0s 11ms/step - loss: 5.8245e-05\n",
      "Epoch 55/100\n",
      "35/35 [==============================] - 0s 10ms/step - loss: 5.9882e-05\n",
      "Epoch 56/100\n",
      "35/35 [==============================] - 0s 11ms/step - loss: 5.7767e-05\n",
      "Epoch 57/100\n",
      "35/35 [==============================] - 1s 15ms/step - loss: 5.9227e-05\n",
      "Epoch 58/100\n",
      "35/35 [==============================] - 0s 13ms/step - loss: 5.6009e-05\n",
      "Epoch 59/100\n",
      "35/35 [==============================] - 0s 12ms/step - loss: 5.8770e-05\n",
      "Epoch 60/100\n",
      "35/35 [==============================] - 0s 11ms/step - loss: 5.6591e-05\n",
      "Epoch 61/100\n",
      "35/35 [==============================] - 0s 12ms/step - loss: 5.9153e-05\n",
      "Epoch 62/100\n",
      "35/35 [==============================] - 1s 19ms/step - loss: 5.5625e-05\n",
      "Epoch 63/100\n",
      "35/35 [==============================] - 1s 24ms/step - loss: 5.7392e-05\n",
      "Epoch 64/100\n",
      "35/35 [==============================] - 1s 19ms/step - loss: 5.4542e-05\n",
      "Epoch 65/100\n",
      "35/35 [==============================] - 1s 22ms/step - loss: 5.5742e-05\n",
      "Epoch 66/100\n",
      "35/35 [==============================] - 1s 22ms/step - loss: 5.1556e-05\n",
      "Epoch 67/100\n",
      "35/35 [==============================] - 1s 24ms/step - loss: 5.3196e-05\n",
      "Epoch 68/100\n",
      "35/35 [==============================] - 1s 25ms/step - loss: 5.1452e-05\n",
      "Epoch 69/100\n",
      "35/35 [==============================] - 1s 19ms/step - loss: 5.1348e-05\n",
      "Epoch 70/100\n",
      "35/35 [==============================] - 1s 20ms/step - loss: 4.8028e-05\n",
      "Epoch 71/100\n",
      "35/35 [==============================] - 1s 19ms/step - loss: 4.9712e-05\n",
      "Epoch 72/100\n",
      "35/35 [==============================] - 1s 23ms/step - loss: 4.7777e-05\n",
      "Epoch 73/100\n",
      "35/35 [==============================] - 1s 21ms/step - loss: 4.9569e-05\n",
      "Epoch 74/100\n",
      "35/35 [==============================] - 1s 21ms/step - loss: 4.7028e-05\n",
      "Epoch 75/100\n",
      "35/35 [==============================] - 1s 23ms/step - loss: 5.0117e-05\n",
      "Epoch 76/100\n",
      "35/35 [==============================] - 1s 21ms/step - loss: 4.7688e-05\n",
      "Epoch 77/100\n",
      "35/35 [==============================] - 1s 21ms/step - loss: 4.7479e-05\n",
      "Epoch 78/100\n",
      "35/35 [==============================] - 1s 24ms/step - loss: 4.6402e-05\n",
      "Epoch 79/100\n",
      "35/35 [==============================] - 1s 28ms/step - loss: 4.6247e-05\n",
      "Epoch 80/100\n",
      "35/35 [==============================] - 1s 21ms/step - loss: 4.2637e-05\n",
      "Epoch 81/100\n",
      "35/35 [==============================] - 1s 21ms/step - loss: 4.3806e-05: 0s - loss: 5.5311\n",
      "Epoch 82/100\n",
      "35/35 [==============================] - 1s 21ms/step - loss: 4.1904e-05\n",
      "Epoch 83/100\n",
      "35/35 [==============================] - 1s 15ms/step - loss: 4.1582e-05\n",
      "Epoch 84/100\n",
      "35/35 [==============================] - 1s 25ms/step - loss: 3.8135e-05\n",
      "Epoch 85/100\n",
      "35/35 [==============================] - 1s 18ms/step - loss: 3.8213e-05\n",
      "Epoch 86/100\n",
      "35/35 [==============================] - 1s 23ms/step - loss: 3.7339e-05\n",
      "Epoch 87/100\n",
      "35/35 [==============================] - 1s 28ms/step - loss: 3.7353e-05\n",
      "Epoch 88/100\n",
      "35/35 [==============================] - 1s 27ms/step - loss: 3.6129e-05\n",
      "Epoch 89/100\n",
      "35/35 [==============================] - 1s 17ms/step - loss: 4.0255e-05\n",
      "Epoch 90/100\n",
      "35/35 [==============================] - 1s 18ms/step - loss: 4.1764e-05\n",
      "Epoch 91/100\n",
      "35/35 [==============================] - 1s 18ms/step - loss: 4.2584e-05\n",
      "Epoch 92/100\n",
      "35/35 [==============================] - 1s 20ms/step - loss: 4.4723e-05\n",
      "Epoch 93/100\n",
      "35/35 [==============================] - 1s 19ms/step - loss: 3.9308e-05\n",
      "Epoch 94/100\n",
      "35/35 [==============================] - 1s 21ms/step - loss: 3.5945e-05\n",
      "Epoch 95/100\n",
      "35/35 [==============================] - 1s 22ms/step - loss: 3.3055e-05\n",
      "Epoch 96/100\n",
      "35/35 [==============================] - 1s 19ms/step - loss: 3.2378e-05\n",
      "Epoch 97/100\n",
      "35/35 [==============================] - 1s 18ms/step - loss: 2.9610e-05\n",
      "Epoch 98/100\n",
      "35/35 [==============================] - 1s 19ms/step - loss: 2.8792e-05\n",
      "Epoch 99/100\n",
      "35/35 [==============================] - 1s 19ms/step - loss: 2.9453e-05\n",
      "Epoch 100/100\n",
      "35/35 [==============================] - 1s 21ms/step - loss: 3.0499e-05\n"
     ]
    }
   ],
   "source": [
    "#Model Training\n",
    "history=lstm.fit(X_train, y_train, epochs=100, batch_size=8, verbose=1, shuffle=False)"
   ]
  },
  {
   "cell_type": "code",
   "execution_count": 11,
   "metadata": {},
   "outputs": [],
   "source": [
    "#predictions\n",
    "y_pred= lstm.predict(X_test)"
   ]
  },
  {
   "cell_type": "code",
   "execution_count": 12,
   "metadata": {},
   "outputs": [
    {
     "data": {
      "image/png": "[encoded data removed]",
      "text/plain": [
       "<Figure size 432x288 with 1 Axes>"
      ]
     },
     "metadata": {
      "needs_background": "light"
     },
     "output_type": "display_data"
    }
   ],
   "source": [
    "#Predicted vs True Adj Close Value – LSTM\n",
    "plt.plot(y_test, label='Actual Value')\n",
    "plt.plot(y_pred, label='LSTM Value')\n",
    "plt.title('Prediction by LSTM')\n",
    "plt.xlabel('Time Scale')\n",
    "plt.ylabel('Scaled USD')\n",
    "plt.legend()\n",
    "plt.show()"
   ]
  }
 ],
 "metadata": {
  "kernelspec": {
   "display_name": "tfenv",
   "language": "python",
   "name": "python3"
  },
  "language_info": {
   "codemirror_mode": {
    "name": "ipython",
    "version": 3
   },
   "file_extension": ".py",
   "mimetype": "text/x-python",
   "name": "python",
   "nbconvert_exporter": "python",
   "pygments_lexer": "ipython3",
   "version": "3.6.15"
  },
  "orig_nbformat": 4
 },
 "nbformat": 4,
 "nbformat_minor": 2
}
